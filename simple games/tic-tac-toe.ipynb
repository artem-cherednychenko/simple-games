{
 "cells": [
  {
   "cell_type": "code",
   "execution_count": 1,
   "id": "a720f1b6",
   "metadata": {},
   "outputs": [],
   "source": [
    "board=[' ',' ',' ',' ',' ',' ',' ',' ',' ']\n",
    "def display_board(board):\n",
    "    print(' '+board[6]+' | '+board[7]+' | '+board[8]+' ')\n",
    "    print('-----------')\n",
    "    print(' '+board[3]+' | '+board[4]+' | '+board[5]+' ')\n",
    "    print('-----------')\n",
    "    print(' '+board[0]+' | '+board[1]+' | '+board[2]+' ')"
   ]
  },
  {
   "cell_type": "code",
   "execution_count": 2,
   "id": "db194f2c",
   "metadata": {},
   "outputs": [],
   "source": [
    "def position_choice():\n",
    "    accepted_choices=['1','2','3','4','5','6','7','8','9']\n",
    "    position=input(\"Please choose position (1-9): \")\n",
    "    while position not in accepted_choices:\n",
    "        position=input(\"Please choose position (1-9): \")\n",
    "    while board[int(position)-1]!=' ':\n",
    "        position=input(\"This position has already been chosen. Please choose another one: \")\n",
    "    return int(position)"
   ]
  },
  {
   "cell_type": "code",
   "execution_count": 3,
   "id": "0c265a28",
   "metadata": {},
   "outputs": [],
   "source": [
    "def replacement(board,position,mark):\n",
    "    board[position-1]=mark\n",
    "    return board"
   ]
  },
  {
   "cell_type": "code",
   "execution_count": 4,
   "id": "96c8e1f0",
   "metadata": {},
   "outputs": [],
   "source": [
    "def change_player(mark):\n",
    "    if mark=='X':\n",
    "        mark='O'\n",
    "    else:\n",
    "        mark='X'\n",
    "    return mark"
   ]
  },
  {
   "cell_type": "code",
   "execution_count": 5,
   "id": "eb5205b0",
   "metadata": {},
   "outputs": [],
   "source": [
    "def game_on():\n",
    "    board=[' ',' ',' ',' ',' ',' ',' ',' ',' ']\n",
    "    mark='X'\n",
    "    player1_wins=False\n",
    "    player2_wins=False\n",
    "    tie=False\n",
    "    \n",
    "    choice=input(\"New game? (yes or no): \")\n",
    "    while choice.lower() not in ['yes','no']:\n",
    "        choice=input(\"New game? (yes or no): \")\n",
    "    if choice.lower()=='yes':\n",
    "        return True\n",
    "    else:\n",
    "        return False"
   ]
  },
  {
   "cell_type": "code",
   "execution_count": 6,
   "id": "0e07c658",
   "metadata": {},
   "outputs": [],
   "source": [
    "def check_result():\n",
    "    \n",
    "    winning_combinations=[board[0:3],board[3:6],board[6:9],[board[0],board[3],board[6]],[board[1],board[4],board[7]],[board[2],board[5],board[8]],[board[0],board[4],board[8]],[board[2],board[4],board[6]]]\n",
    "    \n",
    "    line1=['X','X','X']\n",
    "    line2=['O','O','O']\n",
    "    \n",
    "    player1_wins=False\n",
    "    player2_wins=False\n",
    "    tie=False\n",
    "\n",
    "    for i in winning_combinations:\n",
    "        if i==line1:\n",
    "            player1_wins=True\n",
    "        elif i==line2:\n",
    "            player2_wins=True\n",
    "        else:\n",
    "            pass\n",
    "    \n",
    "    if ' ' not in board:\n",
    "        tie=True\n",
    "        \n",
    "    return player1_wins,player2_wins,tie"
   ]
  },
  {
   "cell_type": "code",
   "execution_count": null,
   "id": "351361db",
   "metadata": {},
   "outputs": [],
   "source": [
    "newgame=game_on()\n",
    "\n",
    "while newgame==True:\n",
    "    board=[' ',' ',' ',' ',' ',' ',' ',' ',' ']\n",
    "    mark='X'\n",
    "    player1_wins=False\n",
    "    player2_wins=False\n",
    "    tie=False\n",
    "    \n",
    "    display_board(board)\n",
    "    \n",
    "    for i in range(0,9):\n",
    "    \n",
    "        position=position_choice()\n",
    "\n",
    "        board=replacement(board,position,mark)\n",
    "\n",
    "        display_board(board)\n",
    "\n",
    "        check=check_result()\n",
    "\n",
    "        if check[0]:\n",
    "            print(\"Congratulations! Player1 wins.\")\n",
    "            break\n",
    "        elif check[1]:\n",
    "            print(\"Congratulations! Player2 wins.\")\n",
    "            break\n",
    "        elif check[2]:\n",
    "            print(\"It's a tie!\")\n",
    "            break\n",
    "        else:\n",
    "            pass\n",
    "    \n",
    "        mark=change_player(mark)\n",
    "    \n",
    "    newgame=game_on()\n"
   ]
  }
 ],
 "metadata": {
  "kernelspec": {
   "display_name": "Python 3 (ipykernel)",
   "language": "python",
   "name": "python3"
  },
  "language_info": {
   "codemirror_mode": {
    "name": "ipython",
    "version": 3
   },
   "file_extension": ".py",
   "mimetype": "text/x-python",
   "name": "python",
   "nbconvert_exporter": "python",
   "pygments_lexer": "ipython3",
   "version": "3.10.9"
  }
 },
 "nbformat": 4,
 "nbformat_minor": 5
}
