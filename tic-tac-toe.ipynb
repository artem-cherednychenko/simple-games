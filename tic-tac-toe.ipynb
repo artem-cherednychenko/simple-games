{
 "cells": [
  {
   "cell_type": "markdown",
   "id": "05439fb5",
   "metadata": {},
   "source": [
    "# Tic-Tac-Toe game\n",
    "\n",
    "Please see my code for tic-tac-toe game below.\n",
    "\n",
    "Here are the requirements:\n",
    " - 2 players should be able to play the game (both sitting at the same computer)\n",
    " - The board should be printed out every time a player makes a move\n",
    " - The game should be able to inform the player about incorrect input."
   ]
  },
  {
   "cell_type": "code",
   "execution_count": 1,
   "id": "522adbf2",
   "metadata": {},
   "outputs": [],
   "source": [
    "# Make necessary imports\n",
    "from IPython.display import clear_output"
   ]
  },
  {
   "cell_type": "code",
   "execution_count": 2,
   "id": "a720f1b6",
   "metadata": {},
   "outputs": [],
   "source": [
    "# Create function displaying clean board\n",
    "board=[' ',' ',' ',' ',' ',' ',' ',' ',' ']\n",
    "def display_board(board):\n",
    "    print(' '+board[6]+' | '+board[7]+' | '+board[8]+' ')\n",
    "    print('-----------')\n",
    "    print(' '+board[3]+' | '+board[4]+' | '+board[5]+' ')\n",
    "    print('-----------')\n",
    "    print(' '+board[0]+' | '+board[1]+' | '+board[2]+' ')"
   ]
  },
  {
   "cell_type": "code",
   "execution_count": 3,
   "id": "db194f2c",
   "metadata": {},
   "outputs": [],
   "source": [
    "# Create function displaying suggestion to make move (i.e. to choose acceptable input).\n",
    "# In case of incorrect input, inform the player about this.\n",
    "def position_choice():\n",
    "    accepted_choices=['1','2','3','4','5','6','7','8','9']\n",
    "    position=input(\"Please choose position (1-9): \")\n",
    "        \n",
    "    while True:\n",
    "        try:\n",
    "            if position not in accepted_choices and board[int(position)-1]==' ':\n",
    "                clear_output(wait=True)\n",
    "                position=input(\"Only numbers from the range 1-9 are allowed:\")\n",
    "            elif position in accepted_choices and board[int(position)-1]!=' ':\n",
    "                clear_output(wait=True)\n",
    "                position=input(\"This position has already been chosen. Please choose another one: \")\n",
    "            else:\n",
    "                break\n",
    "        except:\n",
    "            clear_output(wait=True)\n",
    "            position=input(\"Only numbers from the range 1-9 are allowed:\")\n",
    "        \n",
    "    return int(position)"
   ]
  },
  {
   "cell_type": "code",
   "execution_count": 4,
   "id": "0c265a28",
   "metadata": {},
   "outputs": [],
   "source": [
    "# Create function putting player's input on board (most recent state of board, including another player's previous move) \n",
    "def replacement(board,position,mark):\n",
    "    board[position-1]=mark\n",
    "    return board"
   ]
  },
  {
   "cell_type": "code",
   "execution_count": 5,
   "id": "96c8e1f0",
   "metadata": {},
   "outputs": [],
   "source": [
    "# Create function changing player after each move\n",
    "def change_player(mark):\n",
    "    if mark=='X':\n",
    "        mark='O'\n",
    "    else:\n",
    "        mark='X'\n",
    "    return mark"
   ]
  },
  {
   "cell_type": "code",
   "execution_count": 6,
   "id": "eb5205b0",
   "metadata": {},
   "outputs": [],
   "source": [
    "# Create function suggesting new game\n",
    "def game_on():\n",
    "    board=[' ',' ',' ',' ',' ',' ',' ',' ',' ']\n",
    "    mark='X'\n",
    "    player1_wins=False\n",
    "    player2_wins=False\n",
    "    tie=False\n",
    "    \n",
    "    choice=input(\"New game? (yes or no): \")\n",
    "    while choice.lower() not in ['yes','no']:\n",
    "        clear_output(wait=True)\n",
    "        choice=input(\"New game? (yes or no): \")\n",
    "    if choice.lower()=='yes':\n",
    "        return True\n",
    "    else:\n",
    "        return False"
   ]
  },
  {
   "cell_type": "code",
   "execution_count": 7,
   "id": "0e07c658",
   "metadata": {},
   "outputs": [],
   "source": [
    "# Create function checking game results\n",
    "def check_result():\n",
    "    \n",
    "    winning_combinations=[board[0:3],board[3:6],board[6:9],[board[0],board[3],board[6]],[board[1],board[4],board[7]],[board[2],board[5],board[8]],[board[0],board[4],board[8]],[board[2],board[4],board[6]]]\n",
    "    \n",
    "    line1=['X','X','X']\n",
    "    line2=['O','O','O']\n",
    "    \n",
    "    player1_wins=False\n",
    "    player2_wins=False\n",
    "    tie=False\n",
    "\n",
    "    for i in winning_combinations:\n",
    "        if i==line1:\n",
    "            player1_wins=True\n",
    "        elif i==line2:\n",
    "            player2_wins=True\n",
    "        else:\n",
    "            pass\n",
    "    \n",
    "    if ' ' not in board:\n",
    "        tie=True\n",
    "        \n",
    "    return player1_wins,player2_wins,tie"
   ]
  },
  {
   "cell_type": "code",
   "execution_count": 8,
   "id": "351361db",
   "metadata": {},
   "outputs": [
    {
     "name": "stdout",
     "output_type": "stream",
     "text": [
      "Please choose position (1-9): 1\n",
      " O |   | X \n",
      "-----------\n",
      "   | X | O \n",
      "-----------\n",
      " X | O | X \n",
      "Congratulations! Player1 wins.\n",
      "New game? (yes or no): no\n"
     ]
    }
   ],
   "source": [
    "# Present game's logic using support functions created earlier\n",
    "# After that let's play 1 game\n",
    "newgame=game_on()\n",
    "clear_output(wait=True)\n",
    "\n",
    "while newgame==True:\n",
    "    board=[' ',' ',' ',' ',' ',' ',' ',' ',' ']\n",
    "    mark='X'\n",
    "    player1_wins=False\n",
    "    player2_wins=False\n",
    "    tie=False\n",
    "\n",
    "    display_board(board)\n",
    "    for i in range(0,9):\n",
    "        clear_output(wait=True)\n",
    "        position=position_choice()\n",
    "        board=replacement(board,position,mark)\n",
    "        display_board(board)\n",
    "        check=check_result()\n",
    "        if check[0]:\n",
    "            print(\"Congratulations! Player1 wins.\")\n",
    "            break\n",
    "        elif check[1]:\n",
    "            print(\"Congratulations! Player2 wins.\")\n",
    "            break\n",
    "        elif check[2]:\n",
    "            print(\"It's a tie!\")\n",
    "            break\n",
    "        else:\n",
    "            pass\n",
    "        mark=change_player(mark)\n",
    "\n",
    "    newgame=game_on()\n",
    "    clear_output(wait=True)"
   ]
  }
 ],
 "metadata": {
  "kernelspec": {
   "display_name": "Python 3 (ipykernel)",
   "language": "python",
   "name": "python3"
  },
  "language_info": {
   "codemirror_mode": {
    "name": "ipython",
    "version": 3
   },
   "file_extension": ".py",
   "mimetype": "text/x-python",
   "name": "python",
   "nbconvert_exporter": "python",
   "pygments_lexer": "ipython3",
   "version": "3.11.4"
  }
 },
 "nbformat": 4,
 "nbformat_minor": 5
}
